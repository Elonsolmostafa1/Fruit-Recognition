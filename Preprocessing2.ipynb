{
 "cells": [
  {
   "cell_type": "markdown",
   "id": "02037f8e",
   "metadata": {},
   "source": [
    "# Show More Details and Enhance the Contrast"
   ]
  },
  {
   "cell_type": "code",
   "execution_count": 103,
   "id": "bc03f362",
   "metadata": {},
   "outputs": [],
   "source": [
    "\n",
    "from PIL import Image, ImageFilter , ImageEnhance\n",
    "import numpy as np\n",
    "import cv2 as cv\n",
    "from matplotlib import pyplot as plt\n",
    "import sys\n",
    "from matplotlib import cm"
   ]
  },
  {
   "cell_type": "code",
   "execution_count": 104,
   "id": "bea0f94a",
   "metadata": {},
   "outputs": [],
   "source": [
    "img = Image.open('apple2.JPG')\n",
    "enc_img = img.filter(ImageFilter.DETAIL)\n",
    "# enc_img.show()\n",
    "\n",
    "\n",
    "\n",
    "img = Image.open('apple2.JPG')\n",
    "img_con = ImageEnhance.Contrast(enc_img)\n",
    "img_con.enhance(1.5).show(\"90% more contrast\")"
   ]
  },
  {
   "cell_type": "markdown",
   "id": "5c7bcfb5",
   "metadata": {},
   "source": [
    "# crop the image "
   ]
  },
  {
   "cell_type": "code",
   "execution_count": 41,
   "id": "e85b9f1b",
   "metadata": {},
   "outputs": [],
   "source": [
    "img = Image.open('apple1.JPG')\n",
    "#print(img.mode)\n",
    "\n",
    "box = (250, 90, 900, 700)\n",
    "crop_img = img.crop(box) #left, upper, right, lower\n",
    "crop_img.show()"
   ]
  },
  {
   "cell_type": "code",
   "execution_count": 105,
   "id": "5356a926",
   "metadata": {},
   "outputs": [],
   "source": []
  },
  {
   "cell_type": "code",
   "execution_count": 115,
   "id": "a4f2a425",
   "metadata": {},
   "outputs": [],
   "source": [
    "def removeBackground(path):\n",
    "    img = cv.imread(path, cv.IMREAD_UNCHANGED)\n",
    "\n",
    "    original = img.copy()\n",
    "\n",
    "    l = int(max(5, 6))\n",
    "    u = int(min(6, 6))\n",
    "\n",
    "    ed = cv.cvtColor(img, cv.COLOR_BGR2GRAY)\n",
    "    edges = cv.GaussianBlur(img, (51, 3), 3)\n",
    "    edges = cv.cvtColor(edges, cv.COLOR_BGR2GRAY)\n",
    "    edges = cv.Canny(edges, l, u)\n",
    "\n",
    "    _,thresh = cv.threshold(edges, 0, 255, cv.THRESH_BINARY  + cv.THRESH_OTSU)\n",
    "    kernel = cv.getStructuringElement(cv.MORPH_ELLIPSE, (3, 3))\n",
    "    mask = cv.morphologyEx(thresh, cv.MORPH_CLOSE, kernel, iterations=0)\n",
    "\n",
    "\n",
    "    data = mask.tolist()\n",
    "    sys.setrecursionlimit(10**8)\n",
    "    for i in  range(len(data)):\n",
    "        for j in  range(len(data[i])):\n",
    "            if data[i][j] !=  255:\n",
    "                data[i][j] =  -1\n",
    "            else:\n",
    "                break\n",
    "        for j in  range(len(data[i])-1, -1, -1):\n",
    "            if data[i][j] !=  255:\n",
    "                data[i][j] =  -1\n",
    "            else:\n",
    "                break\n",
    "    image = np.array(data)\n",
    "    image[image !=  -1] =  255\n",
    "    image[image ==  -1] =  0\n",
    "\n",
    "    mask = np.array(image, np.uint8)\n",
    "\n",
    "    result = cv.bitwise_and(original, original, mask=mask)\n",
    "    result[mask ==  0] =  0\n",
    "    cv.imwrite('bg.png', result)\n",
    "    print(result.dtype)\n",
    "\n",
    "\n",
    "    img = Image.open('bg.png')\n",
    "    img.convert(\"RGBA\")\n",
    "    print(img)\n",
    "\n",
    "    datas = img.getdata()\n",
    "\n",
    "    newData = []\n",
    "    for item in datas:\n",
    "        if item[0] ==  255  and item[1] ==  255  and item[2] ==  255:\n",
    "            newData.append((0, 0, 0, 255))\n",
    "        else:\n",
    "            newData.append(item)\n",
    "\n",
    "    img.putdata(newData)\n",
    "    return img"
   ]
  },
  {
   "cell_type": "code",
   "execution_count": null,
   "id": "54e17ecb",
   "metadata": {},
   "outputs": [],
   "source": []
  }
 ],
 "metadata": {
  "kernelspec": {
   "display_name": "Python 3",
   "language": "python",
   "name": "python3"
  },
  "language_info": {
   "codemirror_mode": {
    "name": "ipython",
    "version": 3
   },
   "file_extension": ".py",
   "mimetype": "text/x-python",
   "name": "python",
   "nbconvert_exporter": "python",
   "pygments_lexer": "ipython3",
   "version": "3.8.8"
  }
 },
 "nbformat": 4,
 "nbformat_minor": 5
}
