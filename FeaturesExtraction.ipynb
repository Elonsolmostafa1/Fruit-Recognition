{
 "cells": [
  {
   "cell_type": "code",
   "execution_count": 41,
   "id": "fc27721f",
   "metadata": {},
   "outputs": [],
   "source": [
    "import cv2\n",
    "from sklearn import svm\n",
    "from scipy.cluster.vq import kmeans, vq\n",
    "import numpy as np\n",
    "import pandas as pd\n",
    "import glob\n",
    "from skimage.filters import threshold_yen\n",
    "from skimage.exposure import rescale_intensity\n",
    "from scipy.stats import skew\n",
    "from itertools import chain\n"
   ]
  },
  {
   "cell_type": "code",
   "execution_count": 42,
   "id": "117b05ee",
   "metadata": {},
   "outputs": [],
   "source": [
    "Apple_training_data='dataset\\\\Apples\\\\Train\\\\*.jpg'\n",
    "Orange_training_data='dataset\\\\Oranges\\\\Train\\\\*.jpg'\n",
    "Mango_training_data='dataset\\\\Mangoes\\\\Train\\\\*.jpg'\n",
    "\n",
    "Apple_hue_arr = []   #Info of hue of  each apple pic\n",
    "Orange_hue_arr = []  #Info of hue of  each orange pic\n",
    "Mango_hue_arr = []   #Info of hue of  each mango pic\n",
    "Apple_des_list = []\n",
    "Orange_des_list = []\n",
    "Mango_des_list = []\n",
    "sift = cv2.SIFT_create()\n"
   ]
  },
  {
   "cell_type": "code",
   "execution_count": 43,
   "id": "d9136bb6",
   "metadata": {},
   "outputs": [
    {
     "name": "stdout",
     "output_type": "stream",
     "text": [
      "72\n"
     ]
    }
   ],
   "source": [
    "for file in glob.glob(Apple_training_data):    \n",
    "    img = cv2.imread(file)  #read apple images\n",
    "    img = cv2.cvtColor(img, cv2.COLOR_BGR2HSV)  #convert from RBG to HSV\n",
    "    img_gray = cv2.cvtColor(img, cv2.COLOR_BGR2GRAY)\n",
    "    kpts, des = sift.detectAndCompute(img_gray,None)\n",
    "    if len(kpts) < 1:\n",
    "        no_kpts = np.zeros((1, sift.descriptorSize()), np.float32)\n",
    "        Apple_des_list.append((file, no_kpts))\n",
    "    else:\n",
    "        Apple_des_list.append((file, des)) \n",
    "    h,s,v=cv2.split(img)  #Split the the channels of each image\n",
    "    hue_mean=np.mean(h)  #calculate the mean of hue channel of each image\n",
    "    hue_var=np.var(h)    #calculate the var of hue channel of each image\n",
    "    flatten_h = list(np.concatenate(h).flat)  #convert the 2-D image to 1-D image\n",
    "    flatten_s = list(np.concatenate(s).flat)\n",
    "    hue_skewness=skew(flatten_h)   #calculate the skewness of hue channel of each image\n",
    "    image_hue_info=[]\n",
    "    image_hue_info.append(hue_mean)\n",
    "    image_hue_info.append(hue_var)\n",
    "    image_hue_info.append(hue_skewness)\n",
    "    Apple_hue_arr.append(image_hue_info)\n",
    "print(len(Apple_hue_arr))"
   ]
  },
  {
   "cell_type": "code",
   "execution_count": 44,
   "id": "0f10fa63",
   "metadata": {},
   "outputs": [],
   "source": [
    "# Stack all the descriptors vertically in a numpy array\n",
    "descriptors = Apple_des_list[0][1]\n",
    "for file, descriptor in Apple_des_list[1:]:\n",
    "    descriptors = np.vstack((descriptors, descriptor))"
   ]
  },
  {
   "cell_type": "code",
   "execution_count": 45,
   "id": "6a6613cc",
   "metadata": {},
   "outputs": [],
   "source": [
    "#kmeans works only on float, so convert integers to float\n",
    "descriptors_float = descriptors.astype(float)\n",
    "\n",
    "k = 60  #k means awal 60 clusters\n",
    "voc, variance = kmeans(descriptors_float, k, 1)"
   ]
  },
  {
   "cell_type": "code",
   "execution_count": 46,
   "id": "56f14c9f",
   "metadata": {},
   "outputs": [],
   "source": [
    "Apple_features = np.zeros((72, k), \"float32\")\n",
    "for i in range(72):\n",
    "    words, distance = vq(Apple_des_list[i][1],voc)\n",
    "    for w in words:\n",
    "        Apple_features[i][w] += 1"
   ]
  },
  {
   "cell_type": "code",
   "execution_count": 47,
   "id": "791efcd6",
   "metadata": {},
   "outputs": [],
   "source": [
    "Apples_all_features=np.concatenate((Apple_hue_arr,Apple_features),axis=1)"
   ]
  },
  {
   "cell_type": "code",
   "execution_count": null,
   "id": "593205ac",
   "metadata": {},
   "outputs": [],
   "source": []
  },
  {
   "cell_type": "code",
   "execution_count": null,
   "id": "ecdc5426",
   "metadata": {},
   "outputs": [],
   "source": []
  },
  {
   "cell_type": "code",
   "execution_count": 48,
   "id": "419b11eb",
   "metadata": {},
   "outputs": [],
   "source": [
    "for file in glob.glob(Orange_training_data):    \n",
    "    img = cv2.imread(file)\n",
    "    img = cv2.cvtColor(img, cv2.COLOR_BGR2HSV)\n",
    "    img_gray = cv2.cvtColor(img, cv2.COLOR_BGR2GRAY)\n",
    "    kpts, des = sift.detectAndCompute(img_gray,None)\n",
    "    if len(kpts) < 1:\n",
    "        no_kpts = np.zeros((1, sift.descriptorSize()), np.float32)\n",
    "        Orange_des_list.append((file, no_kpts))\n",
    "    else:\n",
    "        Orange_des_list.append((file, des)) \n",
    "    h,s,v=cv2.split(img)\n",
    "    hue_mean=np.mean(h)  #calculate the mean of hue channel of each image\n",
    "    hue_var=np.var(h) \n",
    "    flatten_h = list(np.concatenate(h).flat)\n",
    "    hue_skewness=skew(flatten_h)\n",
    "    image_hue_info=[]\n",
    "    image_hue_info.append(hue_mean)\n",
    "    image_hue_info.append(hue_var)\n",
    "    image_hue_info.append(hue_skewness)\n",
    "    Orange_hue_arr.append(image_hue_info) "
   ]
  },
  {
   "cell_type": "code",
   "execution_count": 49,
   "id": "491e337b",
   "metadata": {},
   "outputs": [],
   "source": [
    "# Stack all the descriptors vertically in a numpy array\n",
    "descriptors = Orange_des_list[0][1]\n",
    "for file, descriptor in Orange_des_list[1:]:\n",
    "    descriptors = np.vstack((descriptors, descriptor))"
   ]
  },
  {
   "cell_type": "code",
   "execution_count": 50,
   "id": "8e963b85",
   "metadata": {},
   "outputs": [],
   "source": [
    "#kmeans works only on float, so convert integers to float\n",
    "descriptors_float = descriptors.astype(float)\n",
    "\n",
    "k = 60  #k means awal 60 clusters\n",
    "voc, variance = kmeans(descriptors_float, k, 1)"
   ]
  },
  {
   "cell_type": "code",
   "execution_count": 51,
   "id": "c3dc6411",
   "metadata": {},
   "outputs": [],
   "source": [
    "Orange_features = np.zeros((70, k), \"float32\")\n",
    "for i in range(70):\n",
    "    words, distance = vq(Orange_des_list[i][1],voc)\n",
    "    for w in words:\n",
    "        Orange_features[i][w] += 1"
   ]
  },
  {
   "cell_type": "code",
   "execution_count": 52,
   "id": "e56a7325",
   "metadata": {},
   "outputs": [],
   "source": [
    "Oranges_all_features=np.concatenate((Orange_hue_arr,Orange_features),axis=1)"
   ]
  },
  {
   "cell_type": "code",
   "execution_count": 53,
   "id": "12fba653",
   "metadata": {},
   "outputs": [],
   "source": [
    "for file in glob.glob(Mango_training_data):    \n",
    "    img = cv2.imread(file)\n",
    "    img = cv2.cvtColor(img, cv2.COLOR_BGR2HSV)\n",
    "    img_gray = cv2.cvtColor(img, cv2.COLOR_BGR2GRAY)\n",
    "    kpts, des = sift.detectAndCompute(img_gray,None)\n",
    "    if len(kpts) < 1:\n",
    "        no_kpts = np.zeros((1, sift.descriptorSize()), np.float32)\n",
    "        Mango_des_list.append((file, no_kpts))\n",
    "    else:\n",
    "        Mango_des_list.append((file, des)) \n",
    "    h,s,v=cv2.split(img)\n",
    "    hue_mean=np.mean(h)\n",
    "    hue_var=np.var(h)\n",
    "    flatten_h = list(np.concatenate(h).flat)\n",
    "    hue_skewness=skew(flatten_h)\n",
    "    image_hue_info=[]\n",
    "    image_hue_info.append(hue_mean)\n",
    "    image_hue_info.append(hue_var)\n",
    "    image_hue_info.append(hue_skewness)\n",
    "    Mango_hue_arr.append(image_hue_info) "
   ]
  },
  {
   "cell_type": "code",
   "execution_count": 54,
   "id": "3551c28d",
   "metadata": {},
   "outputs": [],
   "source": [
    "# Stack all the descriptors vertically in a numpy array\n",
    "descriptors = Mango_des_list[0][1]\n",
    "for file, descriptor in Mango_des_list[1:]:\n",
    "    descriptors = np.vstack((descriptors, descriptor))"
   ]
  },
  {
   "cell_type": "code",
   "execution_count": 55,
   "id": "47d45309",
   "metadata": {},
   "outputs": [],
   "source": [
    "#kmeans works only on float, so convert integers to float\n",
    "descriptors_float = descriptors.astype(float)\n",
    "\n",
    "k = 60  #k means awal 60 clusters\n",
    "voc, variance = kmeans(descriptors_float, k, 1)"
   ]
  },
  {
   "cell_type": "code",
   "execution_count": 56,
   "id": "8bddbded",
   "metadata": {},
   "outputs": [],
   "source": [
    "\n",
    "Mango_features = np.zeros((78, k), \"float32\")\n",
    "for i in range(78):\n",
    "    words, distance = vq(Mango_des_list[i][1],voc)\n",
    "    for w in words:\n",
    "        Mango_features[i][w] += 1"
   ]
  },
  {
   "cell_type": "code",
   "execution_count": 57,
   "id": "ae3a5ca9",
   "metadata": {},
   "outputs": [],
   "source": [
    "Mangos_all_features=np.concatenate((Mango_hue_arr,Mango_features),axis=1)"
   ]
  },
  {
   "cell_type": "code",
   "execution_count": 58,
   "id": "98f14307",
   "metadata": {},
   "outputs": [
    {
     "name": "stdout",
     "output_type": "stream",
     "text": [
      "220\n",
      "['Apple', 'Apple', 'Apple', 'Apple', 'Apple', 'Apple', 'Apple', 'Apple', 'Apple', 'Apple', 'Apple', 'Apple', 'Apple', 'Apple', 'Apple', 'Apple', 'Apple', 'Apple', 'Apple', 'Apple', 'Apple', 'Apple', 'Apple', 'Apple', 'Apple', 'Apple', 'Apple', 'Apple', 'Apple', 'Apple', 'Apple', 'Apple', 'Apple', 'Apple', 'Apple', 'Apple', 'Apple', 'Apple', 'Apple', 'Apple', 'Apple', 'Apple', 'Apple', 'Apple', 'Apple', 'Apple', 'Apple', 'Apple', 'Apple', 'Apple', 'Apple', 'Apple', 'Apple', 'Apple', 'Apple', 'Apple', 'Apple', 'Apple', 'Apple', 'Apple', 'Apple', 'Apple', 'Apple', 'Apple', 'Apple', 'Apple', 'Apple', 'Apple', 'Apple', 'Apple', 'Apple', 'Apple', 'Orange', 'Orange', 'Orange', 'Orange', 'Orange', 'Orange', 'Orange', 'Orange', 'Orange', 'Orange', 'Orange', 'Orange', 'Orange', 'Orange', 'Orange', 'Orange', 'Orange', 'Orange', 'Orange', 'Orange', 'Orange', 'Orange', 'Orange', 'Orange', 'Orange', 'Orange', 'Orange', 'Orange', 'Orange', 'Orange', 'Orange', 'Orange', 'Orange', 'Orange', 'Orange', 'Orange', 'Orange', 'Orange', 'Orange', 'Orange', 'Orange', 'Orange', 'Orange', 'Orange', 'Orange', 'Orange', 'Orange', 'Orange', 'Orange', 'Orange', 'Orange', 'Orange', 'Orange', 'Orange', 'Orange', 'Orange', 'Orange', 'Orange', 'Orange', 'Orange', 'Orange', 'Orange', 'Orange', 'Orange', 'Orange', 'Orange', 'Orange', 'Orange', 'Orange', 'Orange', 'Mango', 'Mango', 'Mango', 'Mango', 'Mango', 'Mango', 'Mango', 'Mango', 'Mango', 'Mango', 'Mango', 'Mango', 'Mango', 'Mango', 'Mango', 'Mango', 'Mango', 'Mango', 'Mango', 'Mango', 'Mango', 'Mango', 'Mango', 'Mango', 'Mango', 'Mango', 'Mango', 'Mango', 'Mango', 'Mango', 'Mango', 'Mango', 'Mango', 'Mango', 'Mango', 'Mango', 'Mango', 'Mango', 'Mango', 'Mango', 'Mango', 'Mango', 'Mango', 'Mango', 'Mango', 'Mango', 'Mango', 'Mango', 'Mango', 'Mango', 'Mango', 'Mango', 'Mango', 'Mango', 'Mango', 'Mango', 'Mango', 'Mango', 'Mango', 'Mango', 'Mango', 'Mango', 'Mango', 'Mango', 'Mango', 'Mango', 'Mango', 'Mango', 'Mango', 'Mango', 'Mango', 'Mango', 'Mango', 'Mango', 'Mango', 'Mango', 'Mango', 'Mango']\n",
      "220\n",
      "[[48.96833125, 1190.4076741736064, -0.267091441509736], [54.54539270833333, 946.3288957520298, -0.524342412224816], [50.427336458333336, 1148.6000262597133, -0.3390714183726552], [47.837890625, 1194.6811132588705, -0.2366304328500471], [46.969971875, 1412.3677493533753, -0.09857330419098127], [52.06758541666667, 1040.2087467947865, -0.44104036912713196], [44.06549375, 1445.061481402044, 0.011973515616359065], [47.77882916666667, 1163.0683772124823, -0.2129492968869344], [47.688938541666666, 1331.615689727472, -0.043426394202618256], [54.79756979166667, 2140.130641802421, 0.6022892085301338], [47.99738541666667, 1160.8382410806207, -0.20393882622566623], [52.7790625, 2383.111465787761, 0.6824533083760865], [43.925642708333335, 1346.26746370151, -0.03591321495989582], [48.374572916666665, 1149.9763284634334, -0.2353237067919506], [43.79645416666666, 1314.3050774270666, -0.020380563795986455], [44.794859375, 1232.808960032308, -0.0493565049383741], [45.89881041666667, 1597.2680960848918, 0.2790790073721215], [46.69843541666667, 1638.9113671354128, 0.3700299505862328], [44.366167708333336, 1345.4944597510405, -0.07351956202848692], [43.397480208333334, 1367.0359313589831, 0.05817784187215664], [41.33521875, 1356.691570056315, 0.19481902870402834], [43.43052291666667, 1279.9917062682255, 0.01563356989288671], [39.870691666666666, 1336.3847585215974, 0.19569518740950975], [40.31636458333333, 1235.517967617078, 0.1843180788995448], [45.08328854166667, 1273.6353473938275, -0.1020510122190862], [46.13941875, 1191.0735728288155, -0.13804246390793318], [44.5465625, 1198.055625683594, -0.04525722738367948], [47.08416770833333, 1097.3245460052074, -0.15563320368172415], [41.802988541666664, 1362.260312526953, 0.14040251081401672], [45.00936145833333, 1243.4201384047642, -0.04167978732707758], [41.21389479166667, 1392.1336417264308, 0.11029208507307757], [41.08484479166667, 1370.4098044863274, 0.13721930469652452], [41.29120416666667, 1616.991450133316, 0.5322579055801594], [42.16738645833333, 1307.5713744818997, 0.10709703331069055], [47.940336458333334, 1592.5537350534623, 0.15375485058450428], [46.588967708333335, 1565.6233326635406, 0.1634874859004772], [40.1169875, 1519.3696660081769, 0.31189763986980806], [49.09984583333333, 1223.541334976233, -0.32852994556600845], [38.22757395833333, 1424.073890301822, 0.26440893533679577], [46.277175, 1293.7347823527086, -0.1486727079099205], [39.472046875, 1380.3645227894688, 0.2865670623098053], [50.43533645833333, 1167.8417040430454, -0.3365282217738321], [48.94461770833333, 1188.6064692601028, -0.2811833433487561], [49.08777083333333, 1109.16399836415, -0.22698280190020206], [47.940135416666664, 1522.7613662316621, 0.05131965098440505], [50.16691458333333, 1240.7331582718703, -0.3223772679983246], [44.98745104166667, 1404.537974815312, -0.07346553576952589], [31.354928125, 1362.7293416510847, 0.712862766974858], [50.30863645833333, 1282.212475828254, -0.3097017482782677], [54.252296875, 1054.2441306618653, -0.5468698222690949], [47.83121666666667, 1375.9481746863887, -0.1833449739677827], [47.21016875, 1256.7489124298563, -0.16942094940017832], [49.222194791666666, 1119.955474266223, -0.25405948466760003], [52.90810729166667, 980.5272921884888, -0.46568603775533524], [51.49690625, 967.6840216787109, -0.3713655109976581], [49.269725, 1023.0805317577075, -0.2719608947796228], [45.93253645833333, 1302.215630962212, -0.11854388131227989], [48.12999791666667, 1195.780515124995, -0.22041624644046912], [48.55580625, 1215.756096079128, -0.24056426248321364], [46.007891666666666, 1319.5655002215967, -0.16674881170288086], [43.974946875, 1301.9936733825946, -0.03709236662735798], [46.66954375, 1219.0662090835026, -0.16769483544246996], [43.28366979166667, 1299.318982490962, -0.007022187063507005], [41.71244895833333, 1360.7271175234364, 0.07989692444681334], [47.09303645833333, 1240.371566092421, -0.21960405399751992], [47.921194791666665, 1172.7595886974727, -0.23246639521551493], [46.403823958333334, 1262.148158502343, -0.16311261084766826], [45.631198958333336, 1301.2615722499993, -0.12753573028906065], [45.16520625, 1860.8039735616267, 0.6026532497923173], [43.20092708333333, 1336.443092890517, 0.0572109323899813], [43.070785416666666, 1785.5462248414544, 0.48262741629299805], [42.74992291666667, 1555.5400385357248, 0.3320822441415314], [50.805458333333334, 916.6541264565969, -0.30521937088937057], [48.995703125, 981.0209846618654, -0.22355887091290202], [61.11974375, 575.9370197676692, -0.7726411866117823], [60.446665625, 630.5399533611101, -0.7570156336373358], [53.32208020833333, 738.3111320477334, -0.23916465805305648], [54.982053125, 638.7535664513442, -0.2804798050454605], [56.21824479166666, 588.7906015025767, -0.2986866069873402], [70.63886770833334, 652.7337595095822, -0.5228461096144864], [62.29969166666667, 762.7256682382641, -0.06307894748659085], [67.32994375, 856.6274392051689, -0.672867802651834], [66.87721770833333, 968.8091922171866, -0.7008638810616438], [64.19966875, 703.85158655694, -0.11939672533285128], [62.746010416666664, 702.6287788748919, -0.059248650534226524], [50.229353125, 748.4151273523859, 0.34449036991861026], [64.74799479166667, 821.3846756666395, -0.5775044792304529], [63.89286875, 769.2771353952729, -0.5386504210319466], [55.61071666666667, 838.0427793197221, -0.12236953767763147], [55.77548854166667, 812.2891706467437, -0.14562269060013525], [60.58688020833333, 920.0527643293996, -0.48075568365811555], [60.156223958333335, 935.9589367831767, -0.48153246915030934], [59.108017708333335, 698.5757457163533, -0.08303150139605446], [61.185183333333335, 616.1379904663889, -0.06888694195442825], [55.68882395833333, 811.8578705127592, -0.004354489722926648], [56.01425729166667, 800.4855436046345, 0.016066006239490643], [62.253075, 748.4877113777086, -0.43933903150599446], [63.032921875, 606.5578338584797, -0.4112245808051946], [62.253770833333334, 762.3286524474825, -0.4686621086505499], [65.03923645833333, 605.1697761253378, -0.4672662628129782], [64.64939375, 706.5793981741277, -0.5360705935337493], [65.21066354166666, 599.9107698305457, -0.5868427441252432], [62.08530416666667, 747.0968731991494, -0.6061518008256114], [61.671627083333334, 836.9908399775999, -0.5771594691836064], [57.389826041666666, 798.6631179489049, -0.23949185970593104], [65.41607916666666, 671.8851989603995, -0.6749917088928491], [66.83258229166667, 531.0740473526029, -0.619795842279458], [57.295707291666666, 818.6739874059884, -0.3956456435899925], [57.6438625, 797.1273764977608, -0.3885829585165152], [65.200109375, 644.5580676963708, -0.9217201859596096], [66.58516041666667, 664.9514622867657, -0.9386635483603368], [63.479828125, 726.4083180954593, -0.751022758144823], [65.95251041666667, 650.5572114061412, -0.7726722545493501], [64.58691145833333, 579.3077213984104, -0.48452097185753074], [65.32707604166667, 653.3642868879674, -0.8530750698496301], [64.43449583333333, 722.3028258708159, -0.82794254891824], [62.99866145833333, 651.6819846666399, -0.6825845382525543], [55.248392708333334, 772.8729750207801, -0.21750871706045918], [58.416909375, 764.8550334480373, -0.5004435642956542], [58.34533854166666, 734.6777756666397, -0.3469674316837563], [61.172667708333336, 605.8091494041654, -0.40138274460492174], [64.15717916666667, 641.8598926262326, -0.8148151389085704], [64.10375208333333, 641.5045250885371, -0.5852448269509205], [64.8125125, 626.3389588540102, -0.7866150415263423], [62.67425729166666, 582.154009396301, -0.6127251681156561], [67.96910625, 496.3339559928777, -1.0500924307003514], [62.149570833333335, 634.4335764824827, -0.6261524828220709], [64.11263125, 603.6397204515232, -0.7631917066403879], [65.47755520833333, 493.8460337313272, -0.7751723223199467], [65.67010833333333, 555.4277256549309, -0.8823908351178978], [64.353834375, 597.8290772767349, -0.8244647271632357], [63.64165833333333, 663.7286099999305, -0.8001827282976618], [63.670809375, 600.2651595740788, -0.8061480222558342], [67.61245625, 569.0129390085027, -1.0714337939419227], [66.18593333333334, 597.4577787955556, -1.068062820307249], [65.40325729166666, 581.4341908483842, -0.8374774020391442], [62.36058333333333, 608.4889984097225, -0.7096384454996777], [63.91283125, 628.3112641090238, -0.8078170186673401], [62.030344791666664, 602.7976823186186, -0.665453506855009], [63.46001979166667, 550.4083515829415, -0.6363083481508771], [55.980090625, 806.1320004917872, -0.45681738584964837], [62.109345833333336, 598.3727039053994, -0.6413587076911893], [39.432285416666666, 265.18387098520395, 0.32215982315473646], [36.30940208333333, 398.456270350829, -0.06386348758494668], [37.711903125, 312.7861012322819, 0.24048993767268548], [37.684440625, 253.82012123918284, 0.41932075209477976], [38.59515520833333, 234.9502350696603, 0.35165501212224404], [38.630211458333335, 248.26966580945205, 0.37219141471859235], [40.294842708333334, 240.63263131900936, 0.37470768030562307], [38.017775, 243.86450071604168, 0.39964875468586425], [38.32538958333333, 232.15843203572481, 0.45033362792690546], [36.19396458333333, 386.56388399041225, -0.06228303726699679], [38.616084375, 226.49614525121413, 0.44016644490323115], [38.09613645833333, 257.3152567397124, 0.26971527731045497], [40.064901041666666, 269.10443056312397, 0.26011540661279514], [40.19297291666667, 223.49320937009992, 0.3934608581482153], [37.56667291666667, 300.0908526388499, 0.14077581288486352], [39.30779583333333, 260.5814783916492, 0.30152768828143467], [38.169928125, 220.96556714066736, 0.5753383150402651], [35.501638541666665, 264.0360598151811, 0.26701778860544656], [37.02358854166667, 237.30092170570205, 0.36664143812600214], [36.95515, 350.01724472750004, -0.020228954721759528], [37.55074166666667, 266.2229294499305, 0.28246710356507765], [35.29161354166666, 296.9452625839833, 0.1791070037494993], [38.74636145833333, 222.3113726985146, 0.40784500617052805], [37.943897916666664, 231.18482755624572, 0.3407740906500487], [37.752534375, 227.23770138944332, 0.4083622957571992], [38.347091666666664, 228.13721695826388, 0.3726682350029371], [36.995017708333336, 215.98961996843644, 0.46265308466053234], [37.48905416666667, 212.00866768873263, 0.38194642436054266], [34.083565625, 277.7649532446516, 0.0570133469520065], [37.64370520833333, 201.46777589643108, 0.4412628599949259], [35.46355104166667, 224.10549022343633, 0.4388724384873197], [37.28588645833333, 253.4499762246083, 0.10871192992496294], [38.970533333333336, 207.50303171555552, 0.4194108779926276], [37.375509375, 202.4543770842871, 0.5685860804170009], [37.399992708333336, 221.3223089582801, 0.4082876824948427], [37.992496875, 195.31933432811536, 0.5095095982418855], [37.393338541666665, 294.2186337499729, 0.04475422680853609], [41.01538645833333, 226.25105804856653, 0.49105121806192287], [37.66550625, 218.5017222645442, 0.37862975365012097], [37.32453854166667, 247.4400445266395, 0.1220644615559038], [39.993675, 266.6046370777083, 0.12774860111895833], [43.168672916666665, 181.49734319718314, 0.3172667744135422], [45.39536041666667, 131.13369847426648, 0.8184764286222158], [44.98639791666667, 130.94967331666234, 0.8890783848613899], [43.65018229166667, 149.8429681959365, 0.5443020601209076], [41.063236458333336, 211.64051052533742, 0.22046036668625765], [43.8244, 164.22694797333335, 0.633638142021185], [45.18253020833333, 124.52490876471246, 0.801137923512744], [42.85474375, 151.62018603850262, 0.7131603525440642], [39.852078125, 197.4949597438965, 0.4229708841166886], [44.34005520833333, 121.36262183028543, 0.8396489720183137], [46.10203020833333, 117.9081408782541, 0.8198908173901486], [43.72988333333333, 140.05327865305551, 0.7678225641279941], [41.839983333333336, 157.50906758305555, 0.7049167273164112], [44.521975, 126.35360043270833, 0.8354359439893211], [43.60149166666667, 120.73854944159724, 0.9770702784293325], [46.04271979166667, 133.99436356106662, 0.901552593175862], [44.57682916666667, 156.21376186248256, 0.7951473758850557], [42.50896458333333, 201.858365469579, 0.49816318631593126], [41.81437291666666, 191.73518633593315, 0.5517073217372892], [43.989923958333335, 117.4935328483843, 0.9587790945486404], [41.354767708333334, 143.47236174812392, 0.8603999789990094], [41.12677395833333, 197.99672523848855, -0.00490608440016656], [34.61621770833333, 310.60587886093657, 0.38449177251915906], [45.095227083333334, 115.83092346926645, 0.9613640415830144], [43.93049270833333, 134.8003676947385, 0.7767505641967968], [42.14346875, 144.45329588444005, 0.8887818789164252], [36.89118645833334, 293.6155919048166, 0.011960581807858918], [39.66766875, 169.5734392736068, 0.529257964615182], [42.66469791666667, 184.93609751291237, 0.6560403972211353], [39.017127083333335, 136.90842332968316, 1.038774652278885], [41.61430729166667, 109.96340675973849, 1.2462278579248265], [44.784479166666664, 154.62921743706596, 0.8356318350145135], [42.600059375, 110.58340062147461, 1.1067311832349014], [41.64063958333333, 309.71215384093324, 0.2019895501489251], [42.661997916666664, 233.1603066749956, 0.5312950472233839], [46.8641875, 169.77132371484373, 0.5638446949311832], [46.223307291666664, 142.5302411451552, 0.7264774471984902]]\n"
     ]
    }
   ],
   "source": [
    "#print(len(Apple_hue_arr),len(Orange_hue_arr),len(Mango_hue_arr))\n",
    "a=[\"Apple\"]*len(Apple_hue_arr)\n",
    "o=[\"Orange\"]*len(Orange_hue_arr)\n",
    "m=[\"Mango\"]*len(Mango_hue_arr)\n",
    "labels=a+o+m\n",
    "print(len(labels))\n",
    "print(labels)\n",
    "\n",
    "features=Apple_hue_arr+Orange_hue_arr+Mango_hue_arr\n",
    "print(len(features))\n",
    "print(features)\n"
   ]
  },
  {
   "cell_type": "code",
   "execution_count": 59,
   "id": "c2211ebd",
   "metadata": {},
   "outputs": [],
   "source": [
    "\n",
    "#fit (training my model with x-images having the y-types)\n",
    "#degree : is the power of the scope in the polynomial equation to detect the new dimension..... preferd degree = #features + 1  to avoid overlapped instances\n",
    "#coef0 : is the constant to be added in the scope in the polynomial equation\n",
    "#gamma : just a constant to scale the new values with\n",
    "clf_poly = svm.SVC(kernel='poly',degree=35,gamma='auto',coef0=1).fit(features,labels)\n",
    "clf_linear = svm.SVC(kernel='linear').fit(features,labels)"
   ]
  },
  {
   "cell_type": "code",
   "execution_count": 60,
   "id": "bcb3d51e",
   "metadata": {},
   "outputs": [
    {
     "name": "stdout",
     "output_type": "stream",
     "text": [
      "[[38.26753020833333, 212.14694321262914, 0.4453941620116571, 107.00081041666667, 212.14694321262914, 0.7885114792616188]]\n"
     ]
    },
    {
     "ename": "ValueError",
     "evalue": "X.shape[1] = 6 should be equal to 3, the number of features at training time",
     "output_type": "error",
     "traceback": [
      "\u001b[1;31m---------------------------------------------------------------------------\u001b[0m",
      "\u001b[1;31mValueError\u001b[0m                                Traceback (most recent call last)",
      "\u001b[1;32m~\\AppData\\Local\\Temp/ipykernel_11968/3547420530.py\u001b[0m in \u001b[0;36m<module>\u001b[1;34m\u001b[0m\n\u001b[0;32m     24\u001b[0m \u001b[1;33m\u001b[0m\u001b[0m\n\u001b[0;32m     25\u001b[0m \u001b[1;31m#predict the fruit type in a new image\u001b[0m\u001b[1;33m\u001b[0m\u001b[1;33m\u001b[0m\u001b[0m\n\u001b[1;32m---> 26\u001b[1;33m \u001b[0mprint\u001b[0m\u001b[1;33m(\u001b[0m\u001b[1;34m\"POLY\"\u001b[0m\u001b[1;33m,\u001b[0m\u001b[0mclf_poly\u001b[0m\u001b[1;33m.\u001b[0m\u001b[0mpredict\u001b[0m\u001b[1;33m(\u001b[0m\u001b[0mp\u001b[0m\u001b[1;33m)\u001b[0m\u001b[1;33m)\u001b[0m\u001b[1;33m\u001b[0m\u001b[1;33m\u001b[0m\u001b[0m\n\u001b[0m\u001b[0;32m     27\u001b[0m \u001b[0mprint\u001b[0m\u001b[1;33m(\u001b[0m\u001b[1;34m\"LINEAR\"\u001b[0m\u001b[1;33m,\u001b[0m\u001b[0mclf_linear\u001b[0m\u001b[1;33m.\u001b[0m\u001b[0mpredict\u001b[0m\u001b[1;33m(\u001b[0m\u001b[0mp\u001b[0m\u001b[1;33m)\u001b[0m\u001b[1;33m)\u001b[0m\u001b[1;33m\u001b[0m\u001b[1;33m\u001b[0m\u001b[0m\n",
      "\u001b[1;32mC:\\ProgramData\\Anaconda3\\lib\\site-packages\\sklearn\\svm\\_base.py\u001b[0m in \u001b[0;36mpredict\u001b[1;34m(self, X)\u001b[0m\n\u001b[0;32m    622\u001b[0m             \u001b[0my\u001b[0m \u001b[1;33m=\u001b[0m \u001b[0mnp\u001b[0m\u001b[1;33m.\u001b[0m\u001b[0margmax\u001b[0m\u001b[1;33m(\u001b[0m\u001b[0mself\u001b[0m\u001b[1;33m.\u001b[0m\u001b[0mdecision_function\u001b[0m\u001b[1;33m(\u001b[0m\u001b[0mX\u001b[0m\u001b[1;33m)\u001b[0m\u001b[1;33m,\u001b[0m \u001b[0maxis\u001b[0m\u001b[1;33m=\u001b[0m\u001b[1;36m1\u001b[0m\u001b[1;33m)\u001b[0m\u001b[1;33m\u001b[0m\u001b[1;33m\u001b[0m\u001b[0m\n\u001b[0;32m    623\u001b[0m         \u001b[1;32melse\u001b[0m\u001b[1;33m:\u001b[0m\u001b[1;33m\u001b[0m\u001b[1;33m\u001b[0m\u001b[0m\n\u001b[1;32m--> 624\u001b[1;33m             \u001b[0my\u001b[0m \u001b[1;33m=\u001b[0m \u001b[0msuper\u001b[0m\u001b[1;33m(\u001b[0m\u001b[1;33m)\u001b[0m\u001b[1;33m.\u001b[0m\u001b[0mpredict\u001b[0m\u001b[1;33m(\u001b[0m\u001b[0mX\u001b[0m\u001b[1;33m)\u001b[0m\u001b[1;33m\u001b[0m\u001b[1;33m\u001b[0m\u001b[0m\n\u001b[0m\u001b[0;32m    625\u001b[0m         \u001b[1;32mreturn\u001b[0m \u001b[0mself\u001b[0m\u001b[1;33m.\u001b[0m\u001b[0mclasses_\u001b[0m\u001b[1;33m.\u001b[0m\u001b[0mtake\u001b[0m\u001b[1;33m(\u001b[0m\u001b[0mnp\u001b[0m\u001b[1;33m.\u001b[0m\u001b[0masarray\u001b[0m\u001b[1;33m(\u001b[0m\u001b[0my\u001b[0m\u001b[1;33m,\u001b[0m \u001b[0mdtype\u001b[0m\u001b[1;33m=\u001b[0m\u001b[0mnp\u001b[0m\u001b[1;33m.\u001b[0m\u001b[0mintp\u001b[0m\u001b[1;33m)\u001b[0m\u001b[1;33m)\u001b[0m\u001b[1;33m\u001b[0m\u001b[1;33m\u001b[0m\u001b[0m\n\u001b[0;32m    626\u001b[0m \u001b[1;33m\u001b[0m\u001b[0m\n",
      "\u001b[1;32mC:\\ProgramData\\Anaconda3\\lib\\site-packages\\sklearn\\svm\\_base.py\u001b[0m in \u001b[0;36mpredict\u001b[1;34m(self, X)\u001b[0m\n\u001b[0;32m    340\u001b[0m         \u001b[0my_pred\u001b[0m \u001b[1;33m:\u001b[0m \u001b[0mndarray\u001b[0m \u001b[0mof\u001b[0m \u001b[0mshape\u001b[0m \u001b[1;33m(\u001b[0m\u001b[0mn_samples\u001b[0m\u001b[1;33m,\u001b[0m\u001b[1;33m)\u001b[0m\u001b[1;33m\u001b[0m\u001b[1;33m\u001b[0m\u001b[0m\n\u001b[0;32m    341\u001b[0m         \"\"\"\n\u001b[1;32m--> 342\u001b[1;33m         \u001b[0mX\u001b[0m \u001b[1;33m=\u001b[0m \u001b[0mself\u001b[0m\u001b[1;33m.\u001b[0m\u001b[0m_validate_for_predict\u001b[0m\u001b[1;33m(\u001b[0m\u001b[0mX\u001b[0m\u001b[1;33m)\u001b[0m\u001b[1;33m\u001b[0m\u001b[1;33m\u001b[0m\u001b[0m\n\u001b[0m\u001b[0;32m    343\u001b[0m         \u001b[0mpredict\u001b[0m \u001b[1;33m=\u001b[0m \u001b[0mself\u001b[0m\u001b[1;33m.\u001b[0m\u001b[0m_sparse_predict\u001b[0m \u001b[1;32mif\u001b[0m \u001b[0mself\u001b[0m\u001b[1;33m.\u001b[0m\u001b[0m_sparse\u001b[0m \u001b[1;32melse\u001b[0m \u001b[0mself\u001b[0m\u001b[1;33m.\u001b[0m\u001b[0m_dense_predict\u001b[0m\u001b[1;33m\u001b[0m\u001b[1;33m\u001b[0m\u001b[0m\n\u001b[0;32m    344\u001b[0m         \u001b[1;32mreturn\u001b[0m \u001b[0mpredict\u001b[0m\u001b[1;33m(\u001b[0m\u001b[0mX\u001b[0m\u001b[1;33m)\u001b[0m\u001b[1;33m\u001b[0m\u001b[1;33m\u001b[0m\u001b[0m\n",
      "\u001b[1;32mC:\\ProgramData\\Anaconda3\\lib\\site-packages\\sklearn\\svm\\_base.py\u001b[0m in \u001b[0;36m_validate_for_predict\u001b[1;34m(self, X)\u001b[0m\n\u001b[0;32m    491\u001b[0m                                  (X.shape[1], self.shape_fit_[0]))\n\u001b[0;32m    492\u001b[0m         \u001b[1;32melif\u001b[0m \u001b[1;32mnot\u001b[0m \u001b[0mcallable\u001b[0m\u001b[1;33m(\u001b[0m\u001b[0mself\u001b[0m\u001b[1;33m.\u001b[0m\u001b[0mkernel\u001b[0m\u001b[1;33m)\u001b[0m \u001b[1;32mand\u001b[0m \u001b[0mX\u001b[0m\u001b[1;33m.\u001b[0m\u001b[0mshape\u001b[0m\u001b[1;33m[\u001b[0m\u001b[1;36m1\u001b[0m\u001b[1;33m]\u001b[0m \u001b[1;33m!=\u001b[0m \u001b[0mself\u001b[0m\u001b[1;33m.\u001b[0m\u001b[0mshape_fit_\u001b[0m\u001b[1;33m[\u001b[0m\u001b[1;36m1\u001b[0m\u001b[1;33m]\u001b[0m\u001b[1;33m:\u001b[0m\u001b[1;33m\u001b[0m\u001b[1;33m\u001b[0m\u001b[0m\n\u001b[1;32m--> 493\u001b[1;33m             raise ValueError(\"X.shape[1] = %d should be equal to %d, \"\n\u001b[0m\u001b[0;32m    494\u001b[0m                              \u001b[1;34m\"the number of features at training time\"\u001b[0m \u001b[1;33m%\u001b[0m\u001b[1;33m\u001b[0m\u001b[1;33m\u001b[0m\u001b[0m\n\u001b[0;32m    495\u001b[0m                              (X.shape[1], self.shape_fit_[1]))\n",
      "\u001b[1;31mValueError\u001b[0m: X.shape[1] = 6 should be equal to 3, the number of features at training time"
     ]
    }
   ],
   "source": [
    "p=[]\n",
    "img = cv2.imread(\"M1.JPG\")\n",
    "img = cv2.cvtColor(img, cv2.COLOR_BGR2HSV)\n",
    "h,s,v=cv2.split(img)\n",
    "hue_mean=np.mean(h)\n",
    "sat_mean=np.mean(s)\n",
    "hue_var=np.var(h)\n",
    "sat_var=np.var(h)\n",
    "flatten_h = list(np.concatenate(h).flat)\n",
    "flatten_s = list(np.concatenate(s).flat)\n",
    "hue_skewness=skew(flatten_h)\n",
    "sat_skewness=skew(flatten_s)\n",
    "image_hue_info=[]\n",
    "image_hue_info.append(hue_mean)\n",
    "image_hue_info.append(hue_var)\n",
    "image_hue_info.append(hue_skewness)\n",
    "image_hue_info.append(sat_mean)\n",
    "image_hue_info.append(sat_var)\n",
    "image_hue_info.append(sat_skewness)\n",
    "p.append(image_hue_info) \n",
    "print(p)    \n",
    "\n",
    "\n",
    "\n",
    "#predict the fruit type in a new image\n",
    "print(\"POLY\",clf_poly.predict(p))\n",
    "print(\"LINEAR\",clf_linear.predict(p))\n"
   ]
  },
  {
   "cell_type": "code",
   "execution_count": null,
   "id": "c445c399",
   "metadata": {},
   "outputs": [],
   "source": []
  }
 ],
 "metadata": {
  "kernelspec": {
   "display_name": "Python 3 (ipykernel)",
   "language": "python",
   "name": "python3"
  },
  "language_info": {
   "codemirror_mode": {
    "name": "ipython",
    "version": 3
   },
   "file_extension": ".py",
   "mimetype": "text/x-python",
   "name": "python",
   "nbconvert_exporter": "python",
   "pygments_lexer": "ipython3",
   "version": "3.9.7"
  }
 },
 "nbformat": 4,
 "nbformat_minor": 5
}
