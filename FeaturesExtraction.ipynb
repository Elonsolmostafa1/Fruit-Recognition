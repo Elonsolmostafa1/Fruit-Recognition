{
 "cells": [
  {
   "cell_type": "code",
   "execution_count": 6,
   "id": "fc27721f",
   "metadata": {},
   "outputs": [],
   "source": [
    "import cv2\n",
    "from sklearn import svm\n",
    "from scipy.cluster.vq import kmeans, vq\n",
    "import numpy as np\n",
    "import glob\n",
    "from scipy.stats import skew\n",
    "from skimage.feature import greycomatrix, greycoprops\n",
    "from sklearn.model_selection import GridSearchCV\n",
    "import pickle\n"
   ]
  },
  {
   "cell_type": "code",
   "execution_count": 7,
   "id": "117b05ee",
   "metadata": {},
   "outputs": [],
   "source": [
    "Apple_training_data='dataset\\\\Apples\\\\*'\n",
    "Orange_training_data='dataset\\\\Oranges\\\\*'\n",
    "Mango_training_data='dataset\\\\Mangoes\\\\*'\n",
    "\n",
    "sift = cv2.SIFT_create()\n"
   ]
  },
  {
   "cell_type": "code",
   "execution_count": 8,
   "id": "53c0be9c",
   "metadata": {},
   "outputs": [],
   "source": [
    "def get_all_glcm_features(gray_scale_img):\n",
    "    \"\"\"\n",
    "    Given a grayscale image with graylevels from 0 - 255, this function returns the contrast\n",
    "    and the homogeneity features of the image with the help of GLCM\n",
    "    \"\"\"\n",
    "    # Tip: Make sure you understand the input-output of everything you write, \n",
    "    # not doing that results in bugs that make you believe the lab is long\n",
    "    \n",
    "    #size of co-occ matrix = number of gray levels\n",
    "    image_array = np.array(gray_scale_img)\n",
    "    #print('first pixel= ', image_array[0][0])\n",
    "    coocurrence_matrix = greycomatrix(image_array, [1], [0])\n",
    "    contrast = greycoprops(coocurrence_matrix, 'contrast')\n",
    "    homogeneity = greycoprops(coocurrence_matrix, 'homogeneity')\n",
    "    #mean = greycoprops(coocurrence_matrix, 'mean')\n",
    "    energy = greycoprops(coocurrence_matrix, 'energy')\n",
    "    #entropy = greycoprops(coocurrence_matrix, 'entropy')\n",
    "    #variance = greycoprops(coocurrence_matrix, 'variance')\n",
    "    correlation = greycoprops(coocurrence_matrix, 'correlation')\n",
    "    return contrast, homogeneity, energy, correlation"
   ]
  },
  {
   "cell_type": "code",
   "execution_count": 9,
   "id": "3b83002f",
   "metadata": {},
   "outputs": [],
   "source": [
    "def extract_features(data_path):\n",
    "    des_list=[]\n",
    "    hue_arr=[]\n",
    "    for file in glob.glob(data_path):    \n",
    "        img = cv2.imread(file)\n",
    "        img = cv2.cvtColor(img, cv2.COLOR_BGR2HSV)\n",
    "        img_gray = cv2.cvtColor(img, cv2.COLOR_BGR2GRAY)\n",
    "        contrast, homogeneity, energy, correlation= get_all_glcm_features((img_gray * 255).astype(np.uint8))\n",
    "        kpts, des = sift.detectAndCompute(img_gray,None)\n",
    "        if len(kpts) < 1:\n",
    "            no_kpts = np.zeros((1, sift.descriptorSize()), np.float32)\n",
    "            des_list.append((file, no_kpts))\n",
    "        else:\n",
    "            des_list.append((file, des)) \n",
    "        h,s,v=cv2.split(img)\n",
    "        hue_mean=np.mean(h)  #calculate the mean of hue channel of each image\n",
    "        hue_var=np.var(h) \n",
    "        flatten_h = list(np.concatenate(h).flat)\n",
    "        hue_skewness=skew(flatten_h)\n",
    "        image_hue_info=[]\n",
    "        image_hue_info.append(hue_mean)\n",
    "        image_hue_info.append(hue_var)\n",
    "        image_hue_info.append(hue_skewness)\n",
    "        #######################################################################\n",
    "        image_hue_info.append(contrast[0][0])\n",
    "        image_hue_info.append(homogeneity[0][0])\n",
    "        image_hue_info.append(energy[0][0])\n",
    "        image_hue_info.append(correlation[0][0])\n",
    "        #########################################################################\n",
    "        hue_arr.append(image_hue_info) \n",
    "\n",
    "\n",
    "\n",
    "        # Stack all the descriptors vertically in a numpy array\n",
    "    descriptors = des_list[0][1]\n",
    "    for file, descriptor in des_list[1:]:\n",
    "        descriptors = np.vstack((descriptors, descriptor))\n",
    "\n",
    "\n",
    "    #kmeans works only on float, so convert integers to float\n",
    "    descriptors_float = descriptors.astype(float)\n",
    "\n",
    "    k = 60  #k means awal 60 clusters\n",
    "    voc, variance = kmeans(descriptors_float, k, 1)\n",
    "\n",
    "    features = np.zeros((len(hue_arr), k), \"float32\")\n",
    "    for i in range(len(hue_arr)):\n",
    "        words, distance = vq(des_list[i][1],voc)\n",
    "        for w in words:\n",
    "            features[i][w] += 1\n",
    "\n",
    "\n",
    "    #Test_features_scaled = scale(Test_features.tolist())\n",
    "    #print(Test_features[0],Test_features_scaled[0])\n",
    "\n",
    "    #Test_hue_arr_scaled = scale(Test_hue_arr)\n",
    "    #print(Test_hue_arr[0],Test_hue_arr_scaled[0])\n",
    "\n",
    "    all_features=np.concatenate((hue_arr,features.tolist()),axis=1).tolist()\n",
    "    return(all_features)"
   ]
  },
  {
   "cell_type": "code",
   "execution_count": 10,
   "id": "f5be7aaa",
   "metadata": {},
   "outputs": [],
   "source": [
    "#extract fruits features\n",
    "Apples_all_features = extract_features(Apple_training_data)"
   ]
  },
  {
   "cell_type": "code",
   "execution_count": 11,
   "id": "4ffbdb11",
   "metadata": {},
   "outputs": [],
   "source": [
    "Oranges_all_features = extract_features(Orange_training_data)"
   ]
  },
  {
   "cell_type": "code",
   "execution_count": 12,
   "id": "a2f71b51",
   "metadata": {},
   "outputs": [],
   "source": [
    "Mangos_all_features = extract_features(Mango_training_data)"
   ]
  },
  {
   "cell_type": "code",
   "execution_count": 28,
   "id": "98f14307",
   "metadata": {},
   "outputs": [
    {
     "name": "stdout",
     "output_type": "stream",
     "text": [
      "286\n",
      "['Apple', 'Apple', 'Apple', 'Apple', 'Apple', 'Apple', 'Apple', 'Apple', 'Apple', 'Apple', 'Apple', 'Apple', 'Apple', 'Apple', 'Apple', 'Apple', 'Apple', 'Apple', 'Apple', 'Apple', 'Apple', 'Apple', 'Apple', 'Apple', 'Apple', 'Apple', 'Apple', 'Apple', 'Apple', 'Apple', 'Apple', 'Apple', 'Apple', 'Apple', 'Apple', 'Apple', 'Apple', 'Apple', 'Apple', 'Apple', 'Apple', 'Apple', 'Apple', 'Apple', 'Apple', 'Apple', 'Apple', 'Apple', 'Apple', 'Apple', 'Apple', 'Apple', 'Apple', 'Apple', 'Apple', 'Apple', 'Apple', 'Apple', 'Apple', 'Apple', 'Apple', 'Apple', 'Apple', 'Apple', 'Apple', 'Apple', 'Apple', 'Apple', 'Apple', 'Apple', 'Apple', 'Apple', 'Apple', 'Apple', 'Apple', 'Apple', 'Apple', 'Apple', 'Apple', 'Apple', 'Apple', 'Apple', 'Apple', 'Apple', 'Apple', 'Apple', 'Apple', 'Apple', 'Apple', 'Apple', 'Apple', 'Apple', 'Apple', 'Apple', 'Apple', 'Apple', 'Orange', 'Orange', 'Orange', 'Orange', 'Orange', 'Orange', 'Orange', 'Orange', 'Orange', 'Orange', 'Orange', 'Orange', 'Orange', 'Orange', 'Orange', 'Orange', 'Orange', 'Orange', 'Orange', 'Orange', 'Orange', 'Orange', 'Orange', 'Orange', 'Orange', 'Orange', 'Orange', 'Orange', 'Orange', 'Orange', 'Orange', 'Orange', 'Orange', 'Orange', 'Orange', 'Orange', 'Orange', 'Orange', 'Orange', 'Orange', 'Orange', 'Orange', 'Orange', 'Orange', 'Orange', 'Orange', 'Orange', 'Orange', 'Orange', 'Orange', 'Orange', 'Orange', 'Orange', 'Orange', 'Orange', 'Orange', 'Orange', 'Orange', 'Orange', 'Orange', 'Orange', 'Orange', 'Orange', 'Orange', 'Orange', 'Orange', 'Orange', 'Orange', 'Orange', 'Orange', 'Orange', 'Orange', 'Orange', 'Orange', 'Orange', 'Orange', 'Orange', 'Orange', 'Orange', 'Orange', 'Orange', 'Orange', 'Orange', 'Orange', 'Orange', 'Orange', 'Orange', 'Orange', 'Orange', 'Orange', 'Mango', 'Mango', 'Mango', 'Mango', 'Mango', 'Mango', 'Mango', 'Mango', 'Mango', 'Mango', 'Mango', 'Mango', 'Mango', 'Mango', 'Mango', 'Mango', 'Mango', 'Mango', 'Mango', 'Mango', 'Mango', 'Mango', 'Mango', 'Mango', 'Mango', 'Mango', 'Mango', 'Mango', 'Mango', 'Mango', 'Mango', 'Mango', 'Mango', 'Mango', 'Mango', 'Mango', 'Mango', 'Mango', 'Mango', 'Mango', 'Mango', 'Mango', 'Mango', 'Mango', 'Mango', 'Mango', 'Mango', 'Mango', 'Mango', 'Mango', 'Mango', 'Mango', 'Mango', 'Mango', 'Mango', 'Mango', 'Mango', 'Mango', 'Mango', 'Mango', 'Mango', 'Mango', 'Mango', 'Mango', 'Mango', 'Mango', 'Mango', 'Mango', 'Mango', 'Mango', 'Mango', 'Mango', 'Mango', 'Mango', 'Mango', 'Mango', 'Mango', 'Mango', 'Mango', 'Mango', 'Mango', 'Mango', 'Mango', 'Mango', 'Mango', 'Mango', 'Mango', 'Mango', 'Mango', 'Mango', 'Mango', 'Mango', 'Mango', 'Mango', 'Mango', 'Mango', 'Mango', 'Mango', 'Mango', 'Mango']\n",
      "286\n",
      "[48.428639583333336, 1290.3954431076002, -0.16097771748750261, 91.83389178482068, 0.5583242559205169, 0.18126078062805587, 0.9851424495496877, 85.0, 100.0, 142.0, 144.0, 191.0, 142.0, 125.0, 129.0, 131.0, 146.0, 119.0, 114.0, 168.0, 112.0, 57.0, 13.0, 108.0, 127.0, 131.0, 156.0, 101.0, 114.0, 30.0, 156.0, 103.0, 110.0, 119.0, 128.0, 72.0, 184.0, 88.0, 89.0, 120.0, 189.0, 145.0, 144.0, 64.0, 148.0, 183.0, 85.0, 151.0, 159.0, 161.0, 145.0, 123.0, 144.0, 135.0, 19.0, 45.0, 115.0, 49.0, 110.0, 145.0, 166.0, 111.0, 103.0, 140.0, 42.0, 139.0, 105.0]\n"
     ]
    }
   ],
   "source": [
    "#print(len(Apple_hue_arr),len(Orange_hue_arr),len(Mango_hue_arr))\n",
    "a=[\"Apple\"]*len(Apples_all_features)\n",
    "o=[\"Orange\"]*len(Oranges_all_features)\n",
    "m=[\"Mango\"]*len(Mangos_all_features)\n",
    "all_labels=a+o+m\n",
    "print(len(all_labels))\n",
    "print(all_labels)\n",
    "\n",
    "all_features= Apples_all_features + Oranges_all_features + Mangos_all_features\n",
    "print(len(all_features))\n",
    "print(all_features[0])\n"
   ]
  },
  {
   "cell_type": "markdown",
   "id": "10ff05e0",
   "metadata": {},
   "source": [
    "#pca\n",
    "pca = PCA()\n",
    "x_scaled_pca = pca.fit_transform(all_features)\n",
    "\n",
    "per_var = np.round(pca.explained_variance_ratio_*100,decimals=1)\n",
    "labels =[str(x) for x in range(1, len(per_var)+1)]\n",
    "\n",
    "\n",
    "plt.bar(x=range(1, len(per_var)+1), height=per_var)\n",
    "plt.tick_params(\n",
    "    axis='x',\n",
    "    which='both',\n",
    "    bottom= False,\n",
    "    top= False,\n",
    "    labelbottom=False)\n",
    "plt.ylabel('percentage of explained variance')\n",
    "plt.xlabel('principal Components')\n",
    "plt.title('scree plot')\n",
    "plt.show()"
   ]
  },
  {
   "cell_type": "code",
   "execution_count": 30,
   "id": "851a0119",
   "metadata": {},
   "outputs": [
    {
     "name": "stdout",
     "output_type": "stream",
     "text": [
      "0.5 scale\n"
     ]
    }
   ],
   "source": [
    "#x_train, x_test, y_train, y_test = train_test_split(all_features,all_labels, test_size=0.3,random_state=0) \n",
    "param_grid = [\n",
    "    {\n",
    "        'C': [0.5, 1, 10, 100],\n",
    "        'gamma': ['scale',1,0.1,0.01,0.001,0.0001],\n",
    "        'kernel': ['rbf']\n",
    "    },\n",
    "]\n",
    "\n",
    "optimal_params = GridSearchCV(\n",
    "    svm.SVC(),\n",
    "    param_grid,\n",
    "    cv=25,\n",
    "    scoring='accuracy',\n",
    "    verbose=0\n",
    ")\n",
    "\n",
    "#print(len(all_features_scalled),len(y_train))\n",
    "#all_features_scaled = scale(all_features)\n",
    "\n",
    "optimal_params.fit(all_features,all_labels)\n",
    "svm_C = optimal_params.best_params_['C']\n",
    "svm_gamma = optimal_params.best_params_['gamma']\n",
    "print(svm_C,svm_gamma)"
   ]
  },
  {
   "cell_type": "code",
   "execution_count": 31,
   "id": "80ec85f8",
   "metadata": {},
   "outputs": [],
   "source": [
    "\n",
    "clf_svm_rbf =  svm.SVC(random_state=0,C=svm_C,gamma=svm_gamma,kernel='rbf')\n",
    "\n",
    "#train the model\n",
    "clf_svm_rbf.fit(all_features,all_labels)\n",
    "# save the model to disk\n",
    "filename = 'final_model.sav'\n",
    "pickle.dump(clf_svm_rbf, open(filename, 'wb'))"
   ]
  },
  {
   "cell_type": "markdown",
   "id": "c60c2f74",
   "metadata": {},
   "source": [
    "all_features_scalled=scale(all_features)\n",
    "clf_linear = svm.SVC(kernel='linear').fit(all_features_scalled[0:220,0:3].tolist(),all_labels)"
   ]
  },
  {
   "cell_type": "code",
   "execution_count": 37,
   "id": "0a837b36",
   "metadata": {},
   "outputs": [
    {
     "name": "stdout",
     "output_type": "stream",
     "text": [
      "['Mango' 'Orange' 'Apple' 'Mango' 'Mango' 'Orange' 'Apple' 'Apple' 'Apple'\n",
      " 'Apple' 'Apple' 'Apple' 'Mango' 'Mango' 'Mango' 'Orange' 'Orange'\n",
      " 'Orange']\n",
      "Accuracy: 0.8888888888888888\n"
     ]
    }
   ],
   "source": [
    "#Import scikit-learn metrics module for accuracy calculation\n",
    "x_test = extract_features('dataset\\\\Test\\\\*')\n",
    "y_test = ['Mango','Apple','Apple','Mango','Mango','Orange','Apple','Apple','Apple','Apple','Orange','Apple','Mango','Mango','Mango','Orange','Orange','Orange']\n",
    "#Import scikit-learn metrics module for accuracy calculation\n",
    "from sklearn import metrics\n",
    "# Model Accuracy: how often is the classifier correct?\n",
    "predicted = clf_svm_rbf.predict(x_test)\n",
    "print(predicted)\n",
    "print(\"Accuracy:\",metrics.accuracy_score(predicted, y_test))\n",
    "\n"
   ]
  }
 ],
 "metadata": {
  "kernelspec": {
   "display_name": "Python 3 (ipykernel)",
   "language": "python",
   "name": "python3"
  },
  "language_info": {
   "codemirror_mode": {
    "name": "ipython",
    "version": 3
   },
   "file_extension": ".py",
   "mimetype": "text/x-python",
   "name": "python",
   "nbconvert_exporter": "python",
   "pygments_lexer": "ipython3",
   "version": "3.9.7"
  }
 },
 "nbformat": 4,
 "nbformat_minor": 5
}
