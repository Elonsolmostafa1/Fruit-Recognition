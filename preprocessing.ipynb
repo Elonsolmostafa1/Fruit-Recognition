{
 "cells": [
  {
   "cell_type": "markdown",
   "id": "7085412a",
   "metadata": {},
   "source": [
    "# Handle Lighting"
   ]
  },
  {
   "cell_type": "code",
   "execution_count": null,
   "id": "c3f0bab9",
   "metadata": {},
   "outputs": [],
   "source": []
  },
  {
   "cell_type": "markdown",
   "id": "6925af1b",
   "metadata": {},
   "source": [
    "# Handle Bluring"
   ]
  },
  {
   "cell_type": "code",
   "execution_count": null,
   "id": "ed74fb8b",
   "metadata": {},
   "outputs": [],
   "source": []
  },
  {
   "cell_type": "markdown",
   "id": "4d877796",
   "metadata": {},
   "source": [
    "# Output Final Image"
   ]
  },
  {
   "cell_type": "code",
   "execution_count": null,
   "id": "4b514c26",
   "metadata": {},
   "outputs": [],
   "source": []
  }
 ],
 "metadata": {
  "kernelspec": {
   "display_name": "Python 3",
   "language": "python",
   "name": "python3"
  },
  "language_info": {
   "codemirror_mode": {
    "name": "ipython",
    "version": 3
   },
   "file_extension": ".py",
   "mimetype": "text/x-python",
   "name": "python",
   "nbconvert_exporter": "python",
   "pygments_lexer": "ipython3",
   "version": "3.8.8"
  }
 },
 "nbformat": 4,
 "nbformat_minor": 5
}
