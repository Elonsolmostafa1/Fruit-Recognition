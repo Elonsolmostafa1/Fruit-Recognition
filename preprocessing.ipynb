{
 "cells": [
  {
   "cell_type": "markdown",
   "id": "7085412a",
   "metadata": {},
   "source": [
    "# Handle Lighting"
   ]
  },
  {
   "cell_type": "code",
   "execution_count": 17,
   "id": "c3f0bab9",
   "metadata": {},
   "outputs": [],
   "source": [
    "import tkinter\n",
    "import cv2\n",
    "import numpy as np\n"
   ]
  },
  {
   "cell_type": "markdown",
   "id": "6925af1b",
   "metadata": {},
   "source": [
    "# Handle Bluring"
   ]
  },
  {
   "cell_type": "code",
   "execution_count": 59,
   "id": "ed74fb8b",
   "metadata": {},
   "outputs": [],
   "source": [
    "img = cv2.imread('app1.jpg')\n",
    "img = cv2.cvtColor(img, cv2.COLOR_BGR2GRAY)\n",
    "_, thresh = cv2.threshold(img, 125, 255, cv2.THRESH_BINARY)\n",
    "kernal = np.ones((4, 4), np.uint8)\n",
    "#dilation = cv2.dilate(thresh, kernal, iterations=30)\n",
    "dilation = cv2.morphologyEx(thresh, cv2.MORPH_OPEN, kernal, iterations=1)\n",
    "dilation = cv2.dilate(dilation, kernal, iterations=1)\n",
    "\n",
    "contours, hierarchy = cv2.findContours(dilation, cv2.RETR_EXTERNAL, cv2.CHAIN_APPROX_SIMPLE)\n",
    "objects = str(len(contours))\n",
    "text = \"Obj:\"+str(objects)\n",
    "\n",
    "cv2.putText(dilation, text, (10, 25),  cv2.FONT_HERSHEY_SIMPLEX,0.4, (240, 0, 159), 1)\n",
    "cv2.imshow('Original', img)\n",
    "cv2.imshow('Thresh', thresh)\n",
    "cv2.imshow('Dilation', dilation)\n",
    "\n",
    "cv2.waitKey(0)\n",
    "cv2.destroyAllWindows()"
   ]
  },
  {
   "cell_type": "markdown",
   "id": "4d877796",
   "metadata": {},
   "source": [
    "# Output Final Image"
   ]
  },
  {
   "cell_type": "code",
   "execution_count": null,
   "id": "4b514c26",
   "metadata": {},
   "outputs": [],
   "source": []
  }
 ],
 "metadata": {
  "kernelspec": {
   "display_name": "Python 3",
   "language": "python",
   "name": "python3"
  },
  "language_info": {
   "codemirror_mode": {
    "name": "ipython",
    "version": 3
   },
   "file_extension": ".py",
   "mimetype": "text/x-python",
   "name": "python",
   "nbconvert_exporter": "python",
   "pygments_lexer": "ipython3",
   "version": "3.8.8"
  }
 },
 "nbformat": 4,
 "nbformat_minor": 5
}
